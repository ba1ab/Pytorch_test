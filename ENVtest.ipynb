{
 "cells": [
  {
   "cell_type": "code",
   "execution_count": 4,
   "id": "7ab6bbb5",
   "metadata": {},
   "outputs": [],
   "source": [
    "import numpy as np\n",
    "from copy import deepcopy\n",
    "\n",
    "MIN_SIZE = 1\n",
    "MAX_SIZE = 50\n",
    "MIN_CYCLE = 300\n",
    "MAX_CYCLE = 1000\n",
    "MIN_DDL = 0.1\n",
    "MAX_DDL = 1\n",
    "MIN_RESOURCE = 0.4\n",
    "MAX_RESOURCE = 1.5\n",
    "MIN_POWER = 1\n",
    "MAX_POWER = 24\n",
    "CAPABILITY_E = 4\n",
    "K_ENERGY_LOCAL = 5 * 1e-27\n",
    "\n",
    "MIN_ENE =0.5\n",
    "MAX_ENE = 3.2\n",
    "HARVEST_RATE = 0.001\n",
    "W_BANDWIDTH = 40\n",
    "\n",
    "K_CHANNEL = 10\n",
    "S_E = 400\n",
    "N_UNITS = 8\n",
    "MAX_STEPS = 10\n",
    "\n"
   ]
  },
  {
   "cell_type": "code",
   "execution_count": null,
   "id": "5f7310b0",
   "metadata": {},
   "outputs": [],
   "source": [
    "class uavENV():\n",
    "\n",
    "    \n",
    "\n",
    "    def __init__(self, n_agents):\n",
    "        \n",
    "        self.state_size = 7\n",
    "        self.action_size = 3\n",
    "        self.n_agents = n_agents\n",
    "        self.W_BANDWIDTH = W_BANDWIDTH\n",
    "\n",
    "        self.S_power = np.zeros(self.n_agents)\n",
    "        self.initial_energy = np.zeros(self.n_agents)\n",
    "        self.S_energy = np.zeros(self.n_agents)\n",
    "        self.S_gain = np.zeros(self.n_agents)\n",
    "        self.S_size = np.zeros(self.n_agents)\n",
    "        self.S_cycle = np.zeros(self.n_agents)  \n",
    "        self.S_ddl = np.zeros(self.n_agents)\n",
    "        self.S_res = np.zeros(self.n_agents)\n",
    "        self.action_lower_bound = [0,  0.01, 0.01] \n",
    "        self.action_higher_bound = [1, 1, 1]\n",
    "        for n in range(self.n_agents):\n",
    "            self.S_size[n] = np.random.uniform(MIN_SIZE, MAX_SIZE)\n",
    "            self.S_cycle[n] = np.random.uniform(MIN_CYCLE, MAX_CYCLE)\n",
    "            self.S_ddl[n] = np.random.uniform(MIN_DDL, MAX_DDL)\n",
    "            self.S_res[n] = np.random.uniform(MIN_RESOURCE, MAX_RESOURCE)\n",
    "\n",
    "    \n",
    "    \n",
    "    def reset(self):\n",
    "        self.step = 0\n",
    "        for n in range(self.n_agents):\n",
    "            self.S_size[n] = np.random.uniform(MIN_SIZE, MAX_SIZE)\n",
    "            self.S_cycle[n] = np.random.uniform(MIN_CYCLE, MAX_CYCLE)\n",
    "            self.S_ddl[n] = np.random.uniform(MIN_DDL, MAX_DDL)\n",
    "            self.S_energy[n] = deepcopy(self.initial_energy[n])\n",
    "        self.S_energy = np.clip(self.S_energy, MIN_ENE, MAX_ENE)\n",
    "        self.state = np.array([self.S_power[n], self.S_gain[n], self.S_energy[n], self.S_size[n], self.S_cycle[n], self.S_ddl[n], self.S_res[n] for n in range(self.n_agents)])\n",
    "        return self.state\n",
    "    \n",
    "    \n",
    "    \n",
    "    def step(self, action):\n",
    "        A_decision = np.zeros(self.n_agents)\n",
    "        A_res = np.zeros(self.n_agents)\n",
    "        A_power = np.zeros(self.n_agents)\n",
    "        for n in range(self.n_agents):\n",
    "            A_decision[n] = action[n][0]\n",
    "            A_res[n] = action[n][1] * self.S_res[n] * 10 ** 9\n",
    "            A_power[n] = action[n][2] * 10 ** ((self.S_power[n]-30)/10)\n",
    "        x_n = A_decision\n",
    "\n",
    "        DataRate = self.W_BANDWIDTH * 10 ** 6  * np.log(1 + A_power * 10 **(self.S_gain/10)) / np.log(2)\n",
    "        DataRate = DataRate / K_CHANNEL\n",
    "        Time_proc = self.S_size*8*1024*self.S_cycle / (CAPABILITY_E*10**9)\n",
    "        Time_local = self.S_size*8*1024*self.S_cycle / A_res\n",
    "        Time_max_local = self.S_size*8*1024*self.S_cycle / (MIN_RESOURCE*10**9)\n",
    "        Time_off = self.S_size*8*1024/ DataRate\n",
    "        for i in range(self.n_agents):\n",
    "            if x_n[i] == 2:\n",
    "                Time_off[i] = MAX_DDL\n",
    "                x_n[i] = 1\n",
    "        Time_finish = np.zeros(self.n_agents)\n",
    "\n",
    "        \n",
    "\n",
    "\n",
    "    \n",
    "\n"
   ]
  },
  {
   "cell_type": "code",
   "execution_count": 50,
   "id": "b7f155af",
   "metadata": {},
   "outputs": [
    {
     "name": "stdout",
     "output_type": "stream",
     "text": [
      "[10  7  5 10 11 48 20 65 92 49 30 13 57 80]\n"
     ]
    }
   ],
   "source": [
    "env=uavENV()\n",
    "print(env)\n"
   ]
  },
  {
   "cell_type": "code",
   "execution_count": 9,
   "id": "db20c95c",
   "metadata": {},
   "outputs": [
    {
     "name": "stdout",
     "output_type": "stream",
     "text": [
      "[13 96]\n",
      "96\n"
     ]
    }
   ],
   "source": [
    "UAV_energy_list = np.random.randint(0, 101, 2)\n",
    "print(UAV_energy_list)\n",
    "\n",
    "print(UAV_energy_list[1])\n"
   ]
  }
 ],
 "metadata": {
  "kernelspec": {
   "display_name": "pytorch_test",
   "language": "python",
   "name": "python3"
  },
  "language_info": {
   "codemirror_mode": {
    "name": "ipython",
    "version": 3
   },
   "file_extension": ".py",
   "mimetype": "text/x-python",
   "name": "python",
   "nbconvert_exporter": "python",
   "pygments_lexer": "ipython3",
   "version": "3.12.4"
  }
 },
 "nbformat": 4,
 "nbformat_minor": 5
}
